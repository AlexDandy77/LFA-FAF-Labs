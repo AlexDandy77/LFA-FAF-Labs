{
 "cells": [
  {
   "cell_type": "markdown",
   "metadata": {},
   "source": [
    "# Laboratory 5 - Chomsky Normal Form"
   ]
  },
  {
   "cell_type": "code",
   "metadata": {},
   "source": [
    "from Grammar import Grammar\n",
    "from constants import EPSILON"
   ],
   "outputs": [],
   "execution_count": null
  },
  {
   "cell_type": "markdown",
   "metadata": {},
   "source": "## Variant 24 (assigned to me)"
  },
  {
   "cell_type": "markdown",
   "metadata": {},
   "source": [
    "$$\n",
    "\\begin{aligned}\n",
    "G &= (V_N, V_T, P, S) \\\\\n",
    "V_N &= \\{S, A, B, C\\} \\\\\n",
    "V_T &= \\{a, d\\} \\\\\n",
    "P &= \\left\\{ \\begin{array}{l}\n",
    "  S \\to dB \\,|\\, A \\\\\n",
    "  A \\to d \\,|\\, dS \\,|\\, aBdAB \\\\\n",
    "  B \\to a \\,|\\, dA \\,|\\, A, \\varepsilon\\ \\\\\n",
    "  C \\to Aa \\\\\n",
    "\\end{array} \\right.\n",
    "\\end{aligned}\n",
    "$$"
   ]
  },
  {
   "cell_type": "code",
   "metadata": {
    "ExecuteTime": {
     "end_time": "2025-04-13T18:06:46.596066Z",
     "start_time": "2025-04-13T18:06:46.583781Z"
    }
   },
   "source": [
    "non_terminals = ['S', 'A', 'B', 'C']\n",
    "terminals = ['a', 'd']\n",
    "rules = {\n",
    "    'S': ['dB', 'A'],\n",
    "    'A': ['d', 'dS', 'aBdAB'],\n",
    "    'B': ['a', 'dA', 'A', EPSILON],\n",
    "    'C': ['Aa'],\n",
    "}\n",
    "\n",
    "grammar = Grammar(non_terminals, terminals, rules)\n",
    "print('Original grammar:')\n",
    "grammar.print_rules()"
   ],
   "outputs": [
    {
     "name": "stdout",
     "output_type": "stream",
     "text": [
      "Original grammar:\n",
      "S -> dB | A\n",
      "A -> d | dS | aBdAB\n",
      "B -> a | dA | A | ε\n",
      "C -> Aa\n"
     ]
    }
   ],
   "execution_count": 6
  },
  {
   "cell_type": "code",
   "metadata": {
    "ExecuteTime": {
     "end_time": "2025-04-13T18:06:51.232692Z",
     "start_time": "2025-04-13T18:06:51.218567Z"
    }
   },
   "source": [
    "print('\\nTo CNF:')\n",
    "grammar.to_cnf()"
   ],
   "outputs": [
    {
     "name": "stdout",
     "output_type": "stream",
     "text": [
      "\n",
      "To CNF:\n",
      "1. After eliminating epsilon productions:\n",
      "S -> d | dB | A\n",
      "A -> d | aBdA | adA | adAB | aBdAB | dS\n",
      "B -> a | dA | A\n",
      "C -> Aa\n",
      "\n",
      "2. After eliminating renaming productions:\n",
      "S -> d | aBdA | dB | adA | adAB | aBdAB | dS\n",
      "A -> d | aBdA | adA | adAB | aBdAB | dS\n",
      "B -> dA | d | a | aBdA | adA | adAB | aBdAB | dS\n",
      "C -> Aa\n",
      "\n",
      "3. After eliminating inaccessible symbols:\n",
      "B -> dA | d | a | aBdA | adA | adAB | aBdAB | dS\n",
      "S -> d | aBdA | dB | adA | adAB | aBdAB | dS\n",
      "A -> d | aBdA | adA | adAB | aBdAB | dS\n",
      "\n",
      "4. After eliminating non-productive symbols:\n",
      "B -> dA | d | a | aBdA | adA | adAB | aBdAB | dS\n",
      "S -> d | aBdA | dB | adA | adAB | aBdAB | dS\n",
      "A -> d | aBdA | adA | adAB | aBdAB | dS\n",
      "\n",
      "5. After converting to CNF:\n",
      "B -> 5A | 3B | d | a | 5S | 1A | 4B | 2A\n",
      "S -> 3B | 5B | d | 5S | 1A | 4B | 2A\n",
      "A -> 3B | d | 5S | 1A | 4B | 2A\n",
      "5 -> d\n",
      "0 -> 6B\n",
      "1 -> 05\n",
      "2 -> 65\n",
      "3 -> 2A\n",
      "4 -> 1A\n",
      "6 -> a\n",
      "\n"
     ]
    }
   ],
   "execution_count": 7
  },
  {
   "cell_type": "markdown",
   "metadata": {},
   "source": "## Testing the methods of the variant 24 Grammar"
  },
  {
   "cell_type": "code",
   "metadata": {
    "ExecuteTime": {
     "end_time": "2025-04-13T18:07:32.179056Z",
     "start_time": "2025-04-13T18:07:32.150902Z"
    }
   },
   "source": [
    "import unittest\n",
    "from test_grammar import TestGrammar\n",
    "\n",
    "unittest.main(argv=[''], exit=False)"
   ],
   "outputs": [
    {
     "name": "stderr",
     "output_type": "stream",
     "text": [
      ".......\n",
      "----------------------------------------------------------------------\n",
      "Ran 7 tests in 0.005s\n",
      "\n",
      "OK\n"
     ]
    },
    {
     "data": {
      "text/plain": [
       "<unittest.main.TestProgram at 0x1eb7dbfbdd0>"
      ]
     },
     "execution_count": 8,
     "metadata": {},
     "output_type": "execute_result"
    }
   ],
   "execution_count": 8
  },
  {
   "cell_type": "markdown",
   "metadata": {},
   "source": [
    "## Variant 20"
   ]
  },
  {
   "cell_type": "markdown",
   "metadata": {},
   "source": [
    "$$\n",
    "\\begin{aligned}\n",
    "G &= (V_N, V_T, P, S) \\\\\n",
    "V_N &= \\{S, A, B, C, D\\} \\\\\n",
    "V_T &= \\{a, b\\} \\\\\n",
    "P &= \\left\\{ \\begin{array}{l}\n",
    "  S \\to aB \\,|\\, bA \\,|\\, A \\\\\n",
    "  A \\to B \\,|\\, Sa \\,|\\, bBA \\,|\\ b \\\\\n",
    "  B \\to b \\,|\\, bS \\,|\\ aD \\,|\\ \\varepsilon \\\\\n",
    "  C \\to bA \\\\\n",
    "  D \\to AA\\\\\n",
    "\\end{array} \\right.\n",
    "\\end{aligned}\n",
    "$$"
   ]
  },
  {
   "cell_type": "code",
   "metadata": {
    "ExecuteTime": {
     "end_time": "2025-04-13T18:07:46.240723Z",
     "start_time": "2025-04-13T18:07:46.229780Z"
    }
   },
   "source": [
    "non_terminals = ['S', 'A', 'B', 'C', 'D']\n",
    "terminals = ['a', 'b']\n",
    "rules = {\n",
    "    'S': ['aB', 'bA', 'A'],\n",
    "    'A': ['B', 'Sa', 'bBA', 'b'],\n",
    "    'B': ['b', 'bS', 'aD', EPSILON],\n",
    "    'C': ['bA'],\n",
    "    'D': ['AA']\n",
    "}\n",
    "\n",
    "grammar = Grammar(non_terminals, terminals, rules)\n",
    "\n",
    "print('New grammar:')\n",
    "grammar.print_rules()\n",
    "print('\\nConverting to CNF:')\n",
    "grammar.to_cnf()"
   ],
   "outputs": [
    {
     "name": "stdout",
     "output_type": "stream",
     "text": [
      "New grammar:\n",
      "S -> aB | bA | A\n",
      "A -> B | Sa | bBA | b\n",
      "B -> b | bS | aD | ε\n",
      "C -> bA\n",
      "D -> AA\n",
      "\n",
      "Converting to CNF:\n",
      "1. After eliminating epsilon productions:\n",
      "S -> b | a | bA | A | aB\n",
      "A -> b | bBA | bB | Sa | a | bA | B\n",
      "B -> bS | b | aD | a\n",
      "C -> b | bA\n",
      "D -> AA | A\n",
      "\n",
      "2. After eliminating renaming productions:\n",
      "S -> b | bBA | bB | a | Sa | bA | aB\n",
      "A -> bS | b | bBA | bB | Sa | a | bA | aD\n",
      "B -> bS | b | aD | a\n",
      "C -> b | bA\n",
      "D -> bS | b | bBA | bB | AA | Sa | a | bA | aD\n",
      "\n",
      "3. After eliminating inaccessible symbols:\n",
      "B -> bS | b | aD | a\n",
      "D -> bS | b | bBA | bB | AA | Sa | a | bA | aD\n",
      "S -> b | bBA | bB | a | Sa | bA | aB\n",
      "A -> bS | b | bBA | bB | Sa | a | bA | aD\n",
      "\n",
      "4. After eliminating non-productive symbols:\n",
      "B -> bS | b | aD | a\n",
      "D -> bS | b | bBA | bB | AA | Sa | a | bA | aD\n",
      "S -> b | bBA | bB | a | Sa | bA | aB\n",
      "A -> bS | b | bBA | bB | Sa | a | bA | aD\n",
      "\n",
      "5. After converting to CNF:\n",
      "B -> b | 1S | a | 2D\n",
      "D -> b | 0A | 1S | AA | a | 1A | S2 | 2D | 1B\n",
      "S -> 0A | b | 1B | a | 1A | S2 | 2B\n",
      "A -> b | 0A | 1S | a | 1A | S2 | 2D | 1B\n",
      "1 -> b\n",
      "2 -> a\n",
      "0 -> 1B\n",
      "\n"
     ]
    }
   ],
   "execution_count": 9
  },
  {
   "cell_type": "markdown",
   "metadata": {},
   "source": [
    "## Example 3"
   ]
  },
  {
   "cell_type": "markdown",
   "metadata": {},
   "source": [
    "$$\n",
    "\\begin{aligned}\n",
    "G &= (V_N, V_T, P, S) \\\\\n",
    "V_N &= \\{S, A, B\\} \\\\\n",
    "V_T &= \\{a, b\\} \\\\\n",
    "P &= \\left\\{ \\begin{array}{l}\n",
    "  S \\to ASB \\\\\n",
    "  A \\to aAS \\,|\\, a \\,|\\, \\varepsilon \\\\\n",
    "  B \\to SbS \\,|\\, A \\,|\\ b \\\\\n",
    "\\end{array} \\right.\n",
    "\\end{aligned}\n",
    "$$"
   ]
  },
  {
   "cell_type": "code",
   "metadata": {
    "ExecuteTime": {
     "end_time": "2025-04-13T18:08:04.383307Z",
     "start_time": "2025-04-13T18:08:04.372195Z"
    }
   },
   "source": [
    "non_terminals = ['S', 'A', 'B']\n",
    "terminals = ['a', 'b']\n",
    "rules = {\n",
    "    'S': ['ASB'],\n",
    "    'A': ['aAS', 'a', EPSILON],\n",
    "    'B': ['SbS', 'A', 'bb'],\n",
    "}\n",
    "\n",
    "grammar = Grammar(non_terminals, terminals, rules)\n",
    "\n",
    "print('New grammar:')\n",
    "grammar.print_rules()\n",
    "print('\\nConverting to CNF:')\n",
    "grammar.to_cnf()"
   ],
   "outputs": [
    {
     "name": "stdout",
     "output_type": "stream",
     "text": [
      "New grammar:\n",
      "S -> ASB\n",
      "A -> aAS | a | ε\n",
      "B -> SbS | A | bb\n",
      "\n",
      "Converting to CNF:\n",
      "1. After eliminating epsilon productions:\n",
      "S -> S | ASB | AS | SB\n",
      "A -> a | aS | aAS\n",
      "B -> SbS | bb | A\n",
      "\n",
      "2. After eliminating renaming productions:\n",
      "S -> ASB | AS | SB\n",
      "A -> a | aS | aAS\n",
      "B -> SbS | bb | a | aAS | aS\n",
      "\n",
      "3. After eliminating inaccessible symbols:\n",
      "B -> SbS | bb | a | aAS | aS\n",
      "S -> ASB | AS | SB\n",
      "A -> a | aS | aAS\n",
      "\n",
      "4. After eliminating non-productive symbols:\n",
      "B -> SbS | bb | a | aAS | aS\n",
      "S -> ASB | AS | SB\n",
      "A -> a | aS | aAS\n",
      "\n",
      "5. After converting to CNF:\n",
      "B -> 1S | 4S | 33 | a | 0S\n",
      "S -> AS | SB | 2B\n",
      "A -> a | 1S | 4S\n",
      "0 -> S3\n",
      "1 -> 4A\n",
      "2 -> AS\n",
      "3 -> b\n",
      "4 -> a\n",
      "\n"
     ]
    }
   ],
   "execution_count": 10
  },
  {
   "cell_type": "markdown",
   "metadata": {},
   "source": [
    "## Example with non-productive symbols"
   ]
  },
  {
   "cell_type": "markdown",
   "metadata": {},
   "source": [
    "$$\n",
    "\\begin{aligned}\n",
    "G &= (V_N, V_T, P, S) \\\\\n",
    "V_N &= \\{S, A, B, C, D, E, F\\} \\\\\n",
    "V_T &= \\{a, b\\} \\\\\n",
    "P &= \\left\\{ \\begin{array}{l}\n",
    "  S \\to aB \\,|\\, DA \\,|\\, EC \\\\\n",
    "  A \\to a \\,|\\, BD \\,|\\, aDADB \\,|\\ FE \\\\\n",
    "  B \\to b \\,|\\, ASB \\\\\n",
    "  C \\to ba \\,|\\, EF \\\\\n",
    "  D \\to BA \\,|\\, \\varepsilon\\\\\n",
    "  E \\to FA \\\\\n",
    "  F \\to EB \\\\\n",
    "\\end{array} \\right.\n",
    "\\end{aligned}\n",
    "$$"
   ]
  },
  {
   "cell_type": "code",
   "metadata": {
    "ExecuteTime": {
     "end_time": "2025-04-13T18:08:19.368595Z",
     "start_time": "2025-04-13T18:08:19.354575Z"
    }
   },
   "source": [
    "non_terminals = ['S', 'A', 'B', 'C', 'D', 'E', 'F']\n",
    "terminals = ['a', 'b']\n",
    "rules = {\n",
    "    'S': ['aB', 'DA', 'EC'],\n",
    "    'A': ['a', 'BD', 'aDADB', 'FE'],\n",
    "    'B': ['b', 'ASB'],\n",
    "    'C': ['BA', 'EF'],  # Non-productive \n",
    "    'D': ['BA', EPSILON], \n",
    "    'E': ['FA'], # Non-productive\n",
    "    'F': ['EB'], # Non-productive\n",
    "}\n",
    "\n",
    "grammar = Grammar(non_terminals, terminals, rules)\n",
    "\n",
    "print('New grammar:')\n",
    "grammar.print_rules()\n",
    "\n",
    "print('\\nConverting to CNF:')\n",
    "grammar.to_cnf()"
   ],
   "outputs": [
    {
     "name": "stdout",
     "output_type": "stream",
     "text": [
      "New grammar:\n",
      "S -> aB | DA | EC\n",
      "A -> a | BD | aDADB | FE\n",
      "B -> b | ASB\n",
      "C -> BA | EF\n",
      "D -> BA | ε\n",
      "E -> FA\n",
      "F -> EB\n",
      "\n",
      "Converting to CNF:\n",
      "1. After eliminating epsilon productions:\n",
      "S -> DA | A | EC | aB\n",
      "A -> FE | BD | aDAB | aADB | aAB | a | B | aDADB\n",
      "B -> b | ASB\n",
      "C -> BA | EF\n",
      "D -> BA\n",
      "E -> FA\n",
      "F -> EB\n",
      "\n",
      "2. After eliminating renaming productions:\n",
      "S -> FE | BD | EC | aDAB | aADB | aAB | a | DA | aDADB | aB\n",
      "A -> FE | BD | b | aDAB | ASB | aADB | aAB | a | aDADB\n",
      "B -> b | ASB\n",
      "C -> BA | EF\n",
      "D -> BA\n",
      "E -> FA\n",
      "F -> EB\n",
      "\n",
      "3. After eliminating inaccessible symbols:\n",
      "F -> EB\n",
      "E -> FA\n",
      "C -> BA | EF\n",
      "A -> FE | BD | b | aDAB | ASB | aADB | aAB | a | aDADB\n",
      "B -> b | ASB\n",
      "D -> BA\n",
      "S -> FE | BD | EC | aDAB | aADB | aAB | a | DA | aDADB | aB\n",
      "\n",
      "4. After eliminating non-productive symbols:\n",
      "C -> BA\n",
      "A -> BD | b | aDAB | ASB | aADB | aAB | a | aDADB\n",
      "B -> b | ASB\n",
      "D -> BA\n",
      "S -> BD | aDAB | aADB | aAB | a | DA | aDADB | aB\n",
      "\n",
      "5. After converting to CNF:\n",
      "C -> BA\n",
      "A -> b | BD | 3B | 5B | a | 2B | 4B | 1B\n",
      "B -> b | 2B\n",
      "D -> BA\n",
      "S -> BD | 3B | 5B | a | 6B | DA | 4B | 1B\n",
      "5 -> 1D\n",
      "0 -> 6D\n",
      "1 -> 0A\n",
      "2 -> AS\n",
      "3 -> 6A\n",
      "4 -> 3D\n",
      "6 -> a\n",
      "\n"
     ]
    }
   ],
   "execution_count": 11
  }
 ],
 "metadata": {
  "kernelspec": {
   "display_name": "Python 3",
   "language": "python",
   "name": "python3"
  },
  "language_info": {
   "codemirror_mode": {
    "name": "ipython",
    "version": 3
   },
   "file_extension": ".py",
   "mimetype": "text/x-python",
   "name": "python",
   "nbconvert_exporter": "python",
   "pygments_lexer": "ipython3",
   "version": "3.11.5"
  }
 },
 "nbformat": 4,
 "nbformat_minor": 2
}
